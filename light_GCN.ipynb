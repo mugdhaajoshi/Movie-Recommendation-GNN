{
 "cells": [
  {
   "cell_type": "code",
   "execution_count": 29,
   "metadata": {},
   "outputs": [
    {
     "ename": "SyntaxError",
     "evalue": "invalid syntax (370810960.py, line 1)",
     "output_type": "error",
     "traceback": [
      "\u001b[0;36m  Cell \u001b[0;32mIn[29], line 1\u001b[0;36m\u001b[0m\n\u001b[0;31m    pip install torch torch-geometric -q\u001b[0m\n\u001b[0m        ^\u001b[0m\n\u001b[0;31mSyntaxError\u001b[0m\u001b[0;31m:\u001b[0m invalid syntax\n"
     ]
    }
   ],
   "source": [
    "pip install torch torch-geometric -q\n",
    "pip install sentence-transformers -q\n",
    "pip install scikit-learn -q\n",
    "pip install torch-scatter -f https://data.pyg.org/whl/torch-2.4.1+cpu.html -q\n",
    "pip install torch-sparse -f https://data.pyg.org/whl/torch-2.4.1+cpu.html -q\n"
   ]
  },
  {
   "cell_type": "code",
   "execution_count": 1,
   "metadata": {},
   "outputs": [
    {
     "name": "stderr",
     "output_type": "stream",
     "text": [
      "/Library/Frameworks/Python.framework/Versions/3.12/lib/python3.12/site-packages/tqdm/auto.py:21: TqdmWarning: IProgress not found. Please update jupyter and ipywidgets. See https://ipywidgets.readthedocs.io/en/stable/user_install.html\n",
      "  from .autonotebook import tqdm as notebook_tqdm\n"
     ]
    }
   ],
   "source": [
    "import sklearn\n",
    "import random\n",
    "from tqdm import tqdm\n",
    "import pandas as pd\n",
    "import numpy as np\n",
    "import matplotlib.pyplot as plt\n",
    "from sklearn.model_selection import train_test_split\n",
    "\n",
    "import torch\n",
    "import torch.nn as nn\n",
    "from torch import optim, Tensor\n",
    "import torch.nn.functional as F\n",
    "from torch.optim import Adam\n",
    "from torch_geometric.nn import MessagePassing\n",
    "from torch_geometric.utils import train_test_split_edges\n",
    "from torch_geometric.datasets import MovieLens, MovieLens100K\n",
    "from torch_sparse import SparseTensor, matmul\n",
    "from torch_geometric.utils import structured_negative_sampling\n",
    "from torch_geometric.data import download_url, extract_zip\n",
    "from torch_geometric.nn.conv.gcn_conv import gcn_norm\n",
    "from torch_geometric.nn.conv import MessagePassing\n",
    "from torch_geometric.typing import Adj\n",
    "from torch_geometric.transforms import RandomLinkSplit\n",
    "from torch_scatter import scatter"
   ]
  },
  {
   "cell_type": "code",
   "execution_count": 2,
   "metadata": {},
   "outputs": [
    {
     "name": "stdout",
     "output_type": "stream",
     "text": [
      "2.4.1\n"
     ]
    }
   ],
   "source": [
    "def format_pytorch_version(version):\n",
    "     return version.split('+')[0]\n",
    "\n",
    "TORCH_version = torch.__version__\n",
    "TORCH = format_pytorch_version(TORCH_version)\n",
    "print(TORCH)"
   ]
  },
  {
   "cell_type": "code",
   "execution_count": 3,
   "metadata": {},
   "outputs": [
    {
     "name": "stderr",
     "output_type": "stream",
     "text": [
      "Downloading https://files.grouplens.org/datasets/movielens/ml-latest-small.zip\n",
      "Extracting ./raw/ml-latest-small.zip\n",
      "Processing...\n",
      "Batches: 100%|██████████| 305/305 [00:03<00:00, 81.67it/s] \n"
     ]
    },
    {
     "name": "stdout",
     "output_type": "stream",
     "text": [
      "HeteroData(\n",
      "  movie={ x=[9742, 404] },\n",
      "  user={ num_nodes=610 },\n",
      "  (user, rates, movie)={\n",
      "    edge_index=[2, 100836],\n",
      "    edge_label=[100836],\n",
      "    time=[100836],\n",
      "  }\n",
      ")\n"
     ]
    },
    {
     "name": "stderr",
     "output_type": "stream",
     "text": [
      "Done!\n"
     ]
    }
   ],
   "source": [
    "dataset = MovieLens(\"\")\n",
    "\n",
    "# Get the first graph (there is typically only one graph)\n",
    "data = dataset[0]\n",
    "\n",
    "# Inspect the data\n",
    "print(data)"
   ]
  },
  {
   "cell_type": "code",
   "execution_count": 4,
   "metadata": {},
   "outputs": [
    {
     "name": "stdout",
     "output_type": "stream",
     "text": [
      "num_users:  610\n",
      "num_items:  9742\n",
      "edge index:  tensor([[   0,    0,    0,  ...,  609,  609,  609],\n",
      "        [   0,    2,    5,  ..., 9462, 9463, 9503]])\n",
      "edge label:  tensor([4, 4, 4,  ..., 5, 5, 3])\n"
     ]
    }
   ],
   "source": [
    "# Extract information\n",
    "num_users = data.num_nodes_dict['user']\n",
    "print(\"num_users: \", num_users)\n",
    "\n",
    "num_items = data.num_nodes_dict['movie']\n",
    "print(\"num_items: \", num_items)\n",
    "\n",
    "edge_index = data['user', 'rates', 'movie'].edge_index\n",
    "print(\"edge index: \", edge_index)\n",
    "\n",
    "edge_label = data['user', 'rates', 'movie'].edge_label\n",
    "print(\"edge label: \", edge_label)\n",
    "\n"
   ]
  },
  {
   "cell_type": "code",
   "execution_count": 5,
   "metadata": {},
   "outputs": [
    {
     "name": "stdout",
     "output_type": "stream",
     "text": [
      "[('user', 'rates', 'movie')]\n"
     ]
    }
   ],
   "source": [
    "print(data.edge_types)"
   ]
  },
  {
   "cell_type": "code",
   "execution_count": 6,
   "metadata": {},
   "outputs": [
    {
     "name": "stdout",
     "output_type": "stream",
     "text": [
      "HeteroData(\n",
      "  movie={ x=[9742, 404] },\n",
      "  user={ num_nodes=610 },\n",
      "  (user, rates, movie)={\n",
      "    edge_index=[2, 80670],\n",
      "    time=[80670],\n",
      "    edge_label=[161340],\n",
      "    edge_label_index=[2, 161340],\n",
      "  }\n",
      ")\n",
      "HeteroData(\n",
      "  movie={ x=[9742, 404] },\n",
      "  user={ num_nodes=610 },\n",
      "  (user, rates, movie)={\n",
      "    edge_index=[2, 90753],\n",
      "    time=[90753],\n",
      "    edge_label=[20166],\n",
      "    edge_label_index=[2, 20166],\n",
      "  }\n",
      ")\n",
      "HeteroData(\n",
      "  movie={ x=[9742, 404] },\n",
      "  user={ num_nodes=610 },\n",
      "  (user, rates, movie)={\n",
      "    edge_index=[2, 80670],\n",
      "    time=[80670],\n",
      "    edge_label=[20166],\n",
      "    edge_label_index=[2, 20166],\n",
      "  }\n",
      ")\n"
     ]
    }
   ],
   "source": [
    "# Specify multiple edge types for splitting\n",
    "edge_types = ('user', 'rates', 'movie'),\n",
    "\n",
    "\n",
    "# Initialize RandomLinkSplit with multiple edge types\n",
    "transform = RandomLinkSplit(\n",
    "    num_val=0.1,\n",
    "    num_test=0.1,\n",
    "    disjoint_train_ratio=0.0,\n",
    "    add_negative_train_samples=True, \n",
    "    edge_types = data.edge_types\n",
    "    \n",
    ")\n",
    "\n",
    "# Apply the transform to your HeteroData object\n",
    "train_dataset, val_dataset, test_dataset = transform(data)\n",
    "print(train_dataset)\n",
    "print(test_dataset)\n",
    "print(val_dataset)\n"
   ]
  },
  {
   "cell_type": "code",
   "execution_count": 7,
   "metadata": {},
   "outputs": [
    {
     "data": {
      "text/plain": [
       "torch.Size([80670])"
      ]
     },
     "execution_count": 7,
     "metadata": {},
     "output_type": "execute_result"
    }
   ],
   "source": [
    "train_dataset['user', 'rates', 'movie'].edge_index[1].size()"
   ]
  },
  {
   "cell_type": "code",
   "execution_count": 8,
   "metadata": {},
   "outputs": [],
   "source": [
    "train_edge_index = train_dataset['user', 'rates', 'movie'].edge_index\n",
    "test_edge_index = test_dataset['user', 'rates', 'movie'].edge_index\n",
    "val_edge_index = test_dataset['user', 'rates', 'movie'].edge_index"
   ]
  },
  {
   "cell_type": "code",
   "execution_count": 9,
   "metadata": {},
   "outputs": [
    {
     "data": {
      "text/plain": [
       "tensor([[   6,  516,  231,  ...,  589,  427,  598],\n",
       "        [5371, 7867,  314,  ...,  986, 5309, 7770]])"
      ]
     },
     "execution_count": 9,
     "metadata": {},
     "output_type": "execute_result"
    }
   ],
   "source": [
    "train_edge_index"
   ]
  },
  {
   "cell_type": "code",
   "execution_count": 10,
   "metadata": {},
   "outputs": [
    {
     "data": {
      "text/plain": [
       "tensor([  6, 516, 231,  ..., 589, 427, 598])"
      ]
     },
     "execution_count": 10,
     "metadata": {},
     "output_type": "execute_result"
    }
   ],
   "source": [
    "train_dataset['user', 'rates', 'movie'].edge_index[0]"
   ]
  },
  {
   "cell_type": "code",
   "execution_count": 11,
   "metadata": {},
   "outputs": [],
   "source": [
    "train_sparse_edge_index = SparseTensor(row=train_dataset['user', 'rates', 'movie'].edge_index[0], col=train_dataset['user', 'rates', 'movie'].edge_index[1]+num_users, \n",
    "                                       sparse_sizes=(num_users + num_items, num_users + num_items))\n",
    "test_sparse_edge_index = SparseTensor(row=test_dataset['user', 'rates', 'movie'].edge_index[0], col=test_dataset['user', 'rates', 'movie'].edge_index[1]+num_users, \n",
    "                                       sparse_sizes=(num_users + num_items, num_users + num_items))\n",
    "val_sparse_edge_index = SparseTensor(row=val_dataset['user', 'rates', 'movie'].edge_index[0], col=val_dataset['user', 'rates', 'movie'].edge_index[1]+num_users, \n",
    "                                       sparse_sizes=(num_users + num_items, num_users + num_items))"
   ]
  },
  {
   "cell_type": "code",
   "execution_count": 12,
   "metadata": {},
   "outputs": [
    {
     "data": {
      "text/plain": [
       "SparseTensor(row=tensor([  0,   0,   0,  ..., 609, 609, 609]),\n",
       "             col=tensor([  612,   615,   653,  ..., 10071, 10072, 10113]),\n",
       "             size=(10352, 10352), nnz=80670, density=0.08%)"
      ]
     },
     "execution_count": 12,
     "metadata": {},
     "output_type": "execute_result"
    }
   ],
   "source": [
    "train_sparse_edge_index"
   ]
  },
  {
   "cell_type": "code",
   "execution_count": 13,
   "metadata": {},
   "outputs": [
    {
     "data": {
      "text/plain": [
       "SparseTensor(row=tensor([  0,   0,   0,  ..., 609, 609, 609]),\n",
       "             col=tensor([  612,   615,   653,  ..., 10072, 10073, 10113]),\n",
       "             size=(10352, 10352), nnz=90753, density=0.08%)"
      ]
     },
     "execution_count": 13,
     "metadata": {},
     "output_type": "execute_result"
    }
   ],
   "source": [
    "test_sparse_edge_index"
   ]
  },
  {
   "cell_type": "code",
   "execution_count": 14,
   "metadata": {},
   "outputs": [],
   "source": [
    "embedding_dim = 64\n",
    "num_layers = 3 "
   ]
  },
  {
   "cell_type": "code",
   "execution_count": 15,
   "metadata": {},
   "outputs": [],
   "source": [
    "# function which random samples a mini-batch of positive and negative samples\n",
    "def sample_mini_batch(batch_size, edge_index):\n",
    "    \"\"\"Randomly samples indices of a minibatch given an adjacency matrix\n",
    "\n",
    "    Args:\n",
    "        batch_size (int): minibatch size\n",
    "        edge_index (torch.Tensor): 2 by N list of edges\n",
    "\n",
    "    Returns:\n",
    "        tuple: user indices, positive item indices, negative item indices\n",
    "    \"\"\"\n",
    "    edges = structured_negative_sampling(edge_index)\n",
    "    edges = torch.stack(edges, dim=0)\n",
    "    indices = random.choices(\n",
    "        [i for i in range(edges[0].shape[0])], k=batch_size)\n",
    "    batch = edges[:, indices]\n",
    "    user_indices, pos_item_indices, neg_item_indices = batch[0], batch[1], batch[2]\n",
    "    return user_indices, pos_item_indices, neg_item_indices"
   ]
  },
  {
   "cell_type": "code",
   "execution_count": 16,
   "metadata": {},
   "outputs": [],
   "source": [
    "# defines LightGCN model\n",
    "class LightGCN(MessagePassing):\n",
    "    \"\"\"LightGCN Model as proposed in https://arxiv.org/abs/2002.02126\n",
    "    \"\"\"\n",
    "\n",
    "    def __init__(self, num_users, num_items, embedding_dim=64, K=3, add_self_loops=False):\n",
    "        \"\"\"Initializes LightGCN Model\n",
    "\n",
    "        Args:\n",
    "            num_users (int): Number of users\n",
    "            num_items (int): Number of items\n",
    "            embedding_dim (int, optional): Dimensionality of embeddings. Defaults to 8.\n",
    "            K (int, optional): Number of message passing layers. Defaults to 3.\n",
    "            add_self_loops (bool, optional): Whether to add self loops for message passing. Defaults to False.\n",
    "        \"\"\"\n",
    "        super().__init__()\n",
    "        self.num_users, self.num_items = num_users, num_items\n",
    "        self.embedding_dim, self.K = embedding_dim, K\n",
    "        self.add_self_loops = add_self_loops\n",
    "\n",
    "        self.users_emb = nn.Embedding(\n",
    "            num_embeddings=self.num_users, embedding_dim=self.embedding_dim) # e_u^0\n",
    "        self.items_emb = nn.Embedding(\n",
    "            num_embeddings=self.num_items, embedding_dim=self.embedding_dim) # e_i^0\n",
    "\n",
    "        # nn.init.normal_(self.users_emb.weight, std=0.1)\n",
    "        # nn.init.normal_(self.items_emb.weight, std=0.1)\n",
    "        nn.init.xavier_normal_(self.users_emb.weight)\n",
    "        nn.init.xavier_normal_(self.items_emb.weight)\n",
    "\n",
    "    def forward(self, edge_index: SparseTensor):\n",
    "        \"\"\"Forward propagation of LightGCN Model.\n",
    "\n",
    "        Args:\n",
    "            edge_index (SparseTensor): adjacency matrix\n",
    "\n",
    "        Returns:\n",
    "            tuple (Tensor): e_u_k, e_u_0, e_i_k, e_i_0\n",
    "        \"\"\"\n",
    "        # compute \\tilde{A}: symmetrically normalized adjacency matrix\n",
    "        edge_index_norm = gcn_norm(\n",
    "            edge_index, add_self_loops=self.add_self_loops)\n",
    "\n",
    "        emb_0 = torch.cat([self.users_emb.weight, self.items_emb.weight]) # E^0\n",
    "        embs = [emb_0]\n",
    "        emb_k = emb_0\n",
    "\n",
    "        # multi-scale diffusion\n",
    "        for i in range(self.K):\n",
    "            emb_k = self.propagate(edge_index_norm, x=emb_k)\n",
    "            embs.append(emb_k)\n",
    "\n",
    "        embs = torch.stack(embs, dim=1)\n",
    "        emb_final = torch.mean(embs, dim=1) # E^K\n",
    "\n",
    "        users_emb_final, items_emb_final = torch.split(\n",
    "            emb_final, [self.num_users, self.num_items]) # splits into e_u^K and e_i^K\n",
    "\n",
    "        # returns e_u^K, e_u^0, e_i^K, e_i^0\n",
    "        return users_emb_final, self.users_emb.weight, items_emb_final, self.items_emb.weight\n",
    "\n",
    "    def message(self, x_j: Tensor) -> Tensor:\n",
    "        return x_j\n",
    "\n",
    "    def message_and_aggregate(self, adj_t: SparseTensor, x: Tensor) -> Tensor:\n",
    "        # computes \\tilde{A} @ x\n",
    "        return matmul(adj_t, x)\n",
    "\n",
    "model = LightGCN(num_users, num_items)"
   ]
  },
  {
   "cell_type": "code",
   "execution_count": 17,
   "metadata": {},
   "outputs": [],
   "source": [
    "def bpr_loss(users_emb_final, users_emb_0, pos_items_emb_final, pos_items_emb_0, neg_items_emb_final, neg_items_emb_0, lambda_val):\n",
    "    \"\"\"Bayesian Personalized Ranking Loss as described in https://arxiv.org/abs/1205.2618\n",
    "\n",
    "    Args:\n",
    "        users_emb_final (torch.Tensor): e_u_k\n",
    "        users_emb_0 (torch.Tensor): e_u_0\n",
    "        pos_items_emb_final (torch.Tensor): positive e_i_k\n",
    "        pos_items_emb_0 (torch.Tensor): positive e_i_0\n",
    "        neg_items_emb_final (torch.Tensor): negative e_i_kq \n",
    "        neg_items_emb_0 (torch.Tensor): negative e_i_0\n",
    "        lambda_val (float): lambda value for regularization loss term\n",
    "\n",
    "    Returns:\n",
    "        torch.Tensor: scalar bpr loss value\n",
    "    \"\"\"\n",
    "    reg_loss = lambda_val * (users_emb_0.norm(2).pow(2) +\n",
    "                             pos_items_emb_0.norm(2).pow(2) +\n",
    "                             neg_items_emb_0.norm(2).pow(2)) # L2 loss\n",
    "\n",
    "    pos_scores = torch.mul(users_emb_final, pos_items_emb_final)\n",
    "    pos_scores = torch.sum(pos_scores, dim=-1) # predicted scores of positive samples\n",
    "    neg_scores = torch.mul(users_emb_final, neg_items_emb_final)\n",
    "    neg_scores = torch.sum(neg_scores, dim=-1) # predicted scores of negative samples\n",
    "\n",
    "    loss = -torch.mean(torch.nn.functional.softplus(pos_scores - neg_scores)) + reg_loss\n",
    "\n",
    "    return loss"
   ]
  },
  {
   "cell_type": "code",
   "execution_count": 18,
   "metadata": {},
   "outputs": [],
   "source": [
    "# helper function to get N_u\n",
    "def get_user_positive_items(edge_index):\n",
    "    \"\"\"Generates dictionary of positive items for each user\n",
    "\n",
    "    Args:\n",
    "        edge_index (torch.Tensor): 2 by N list of edges\n",
    "\n",
    "    Returns:\n",
    "        dict: dictionary of positive items for each user\n",
    "    \"\"\"\n",
    "    user_pos_items = {}\n",
    "    for i in range(edge_index.shape[1]):\n",
    "        user = edge_index[0][i].item()\n",
    "        item = edge_index[1][i].item()\n",
    "        if user not in user_pos_items:\n",
    "            user_pos_items[user] = []\n",
    "        user_pos_items[user].append(item)\n",
    "    return user_pos_items"
   ]
  },
  {
   "cell_type": "code",
   "execution_count": 19,
   "metadata": {},
   "outputs": [],
   "source": [
    "# computes recall@K and precision@K\n",
    "def RecallPrecision_ATk(groundTruth, r, k):\n",
    "    \"\"\"Computers recall @ k and precision @ k\n",
    "\n",
    "    Args:\n",
    "        groundTruth (list): list of lists containing highly rated items of each user\n",
    "        r (list): list of lists indicating whether each top k item recommended to each user\n",
    "            is a top k ground truth item or not\n",
    "        k (intg): determines the top k items to compute precision and recall on\n",
    "\n",
    "    Returns:\n",
    "        tuple: recall @ k, precision @ k\n",
    "    \"\"\"\n",
    "    num_correct_pred = torch.sum(r, dim=-1)  # number of correctly predicted items per user\n",
    "    # number of items liked by each user in the test set\n",
    "    user_num_liked = torch.Tensor([len(groundTruth[i])\n",
    "                                  for i in range(len(groundTruth))])\n",
    "    recall = torch.mean(num_correct_pred / user_num_liked)\n",
    "    precision = torch.mean(num_correct_pred) / k\n",
    "    return recall.item(), precision.item()"
   ]
  },
  {
   "cell_type": "code",
   "execution_count": 20,
   "metadata": {},
   "outputs": [],
   "source": [
    "# computes NDCG@K\n",
    "def NDCGatK_r(groundTruth, r, k):\n",
    "    \"\"\"Computes Normalized Discounted Cumulative Gain (NDCG) @ k\n",
    "\n",
    "    Args:\n",
    "        groundTruth (list): list of lists containing highly rated items of each user\n",
    "        r (list): list of lists indicating whether each top k item recommended to each user\n",
    "            is a top k ground truth item or not\n",
    "        k (int): determines the top k items to compute ndcg on\n",
    "\n",
    "    Returns:\n",
    "        float: ndcg @ k\n",
    "    \"\"\"\n",
    "    assert len(r) == len(groundTruth)\n",
    "\n",
    "    test_matrix = torch.zeros((len(r), k))\n",
    "\n",
    "    for i, items in enumerate(groundTruth):\n",
    "        length = min(len(items), k)\n",
    "        test_matrix[i, :length] = 1\n",
    "    max_r = test_matrix\n",
    "    idcg = torch.sum(max_r * 1. / torch.log2(torch.arange(2, k + 2)), axis=1)\n",
    "    dcg = r * (1. / torch.log2(torch.arange(2, k + 2)))\n",
    "    dcg = torch.sum(dcg, axis=1)\n",
    "    idcg[idcg == 0.] = 1.\n",
    "    ndcg = dcg / idcg\n",
    "    ndcg[torch.isnan(ndcg)] = 0.\n",
    "    return torch.mean(ndcg).item()"
   ]
  },
  {
   "cell_type": "code",
   "execution_count": 21,
   "metadata": {},
   "outputs": [],
   "source": [
    "# wrapper function to get evaluation metrics\n",
    "def get_metrics(model, edge_index, exclude_edge_indices, k):\n",
    "    \"\"\"Computes the evaluation metrics: recall, precision, and ndcg @ k\n",
    "\n",
    "    Args:\n",
    "        model (LighGCN): lightgcn model\n",
    "        edge_index (torch.Tensor): 2 by N list of edges for split to evaluate\n",
    "        exclude_edge_indices ([type]): 2 by N list of edges for split to discount from evaluation\n",
    "        k (int): determines the top k items to compute metrics on\n",
    "\n",
    "    Returns:\n",
    "        tuple: recall @ k, precision @ k, ndcg @ k\n",
    "    \"\"\"\n",
    "    user_embedding = model.users_emb.weight\n",
    "    item_embedding = model.items_emb.weight\n",
    "\n",
    "    # get ratings between every user and item - shape is num users x num movies\n",
    "    rating = torch.matmul(user_embedding, item_embedding.T)\n",
    "\n",
    "    for exclude_edge_index in exclude_edge_indices:\n",
    "        # gets all the positive items for each user from the edge index\n",
    "        user_pos_items = get_user_positive_items(exclude_edge_index)\n",
    "        # get coordinates of all edges to exclude\n",
    "        exclude_users = []\n",
    "        exclude_items = []\n",
    "        for user, items in user_pos_items.items():\n",
    "            exclude_users.extend([user] * len(items))\n",
    "            exclude_items.extend(items)\n",
    "\n",
    "        # set ratings of excluded edges to large negative value\n",
    "        rating[exclude_users, exclude_items] = -(1 << 10)\n",
    "\n",
    "    # get the top k recommended items for each user\n",
    "    _, top_K_items = torch.topk(rating, k=k)\n",
    "\n",
    "    # get all unique users in evaluated split\n",
    "    users = edge_index[0].unique()\n",
    "\n",
    "    test_user_pos_items = get_user_positive_items(edge_index)\n",
    "\n",
    "    # convert test user pos items dictionary into a list\n",
    "    test_user_pos_items_list = [\n",
    "        test_user_pos_items[user.item()] for user in users]\n",
    "\n",
    "    # determine the correctness of topk predictions\n",
    "    r = []\n",
    "    for user in users:\n",
    "        ground_truth_items = test_user_pos_items[user.item()]\n",
    "        label = list(map(lambda x: x in ground_truth_items, top_K_items[user]))\n",
    "        r.append(label)\n",
    "    r = torch.Tensor(np.array(r).astype('float'))\n",
    "\n",
    "    recall, precision = RecallPrecision_ATk(test_user_pos_items_list, r, k)\n",
    "    ndcg = NDCGatK_r(test_user_pos_items_list, r, k)\n",
    "\n",
    "    return recall, precision, ndcg"
   ]
  },
  {
   "cell_type": "code",
   "execution_count": 22,
   "metadata": {},
   "outputs": [],
   "source": [
    "# wrapper function to evaluate model\n",
    "def evaluation(model, edge_index, sparse_edge_index, exclude_edge_indices, k, lambda_val):\n",
    "    \"\"\"Evaluates model loss and metrics including recall, precision, ndcg @ k\n",
    "\n",
    "    Args:\n",
    "        model (LighGCN): lightgcn model\n",
    "        edge_index (torch.Tensor): 2 by N list of edges for split to evaluate\n",
    "        sparse_edge_index (sparseTensor): sparse adjacency matrix for split to evaluate\n",
    "        exclude_edge_indices ([type]): 2 by N list of edges for split to discount from evaluation\n",
    "        k (int): determines the top k items to compute metrics on\n",
    "        lambda_val (float): determines lambda for bpr loss\n",
    "\n",
    "    Returns:\n",
    "        tuple: bpr loss, recall @ k, precision @ k, ndcg @ k\n",
    "    \"\"\"\n",
    "    # get embeddings\n",
    "    users_emb_final, users_emb_0, items_emb_final, items_emb_0 = model.forward(\n",
    "        sparse_edge_index)\n",
    "    edges = structured_negative_sampling(\n",
    "        edge_index, contains_neg_self_loops=False)\n",
    "    user_indices, pos_item_indices, neg_item_indices = edges[0], edges[1], edges[2]\n",
    "    users_emb_final, users_emb_0 = users_emb_final[user_indices], users_emb_0[user_indices]\n",
    "    pos_items_emb_final, pos_items_emb_0 = items_emb_final[\n",
    "        pos_item_indices], items_emb_0[pos_item_indices]\n",
    "    neg_items_emb_final, neg_items_emb_0 = items_emb_final[\n",
    "        neg_item_indices], items_emb_0[neg_item_indices]\n",
    "\n",
    "    loss = bpr_loss(users_emb_final, users_emb_0, pos_items_emb_final, pos_items_emb_0,\n",
    "                    neg_items_emb_final, neg_items_emb_0, lambda_val).item()\n",
    "\n",
    "    recall, precision, ndcg = get_metrics(\n",
    "        model, edge_index, exclude_edge_indices, k)\n",
    "\n",
    "    return loss, recall, precision, ndcg"
   ]
  },
  {
   "cell_type": "code",
   "execution_count": 23,
   "metadata": {},
   "outputs": [],
   "source": [
    "# define contants\n",
    "ITERATIONS = 10000\n",
    "BATCH_SIZE = 1024\n",
    "LR = 1e-3\n",
    "ITERS_PER_EVAL = 200\n",
    "ITERS_PER_LR_DECAY = 200\n",
    "K = 20\n",
    "LAMBDA = 1e-6"
   ]
  },
  {
   "cell_type": "code",
   "execution_count": 24,
   "metadata": {},
   "outputs": [
    {
     "name": "stdout",
     "output_type": "stream",
     "text": [
      "Using device cpu.\n"
     ]
    }
   ],
   "source": [
    "# setup\n",
    "device = torch.device('cuda' if torch.cuda.is_available() else 'cpu')\n",
    "print(f\"Using device {device}.\")\n",
    "\n",
    "\n",
    "model = model.to(device)\n",
    "model.train()\n",
    "\n",
    "optimizer = optim.Adam(model.parameters(), lr=LR)\n",
    "scheduler = optim.lr_scheduler.ExponentialLR(optimizer, gamma=0.95)\n",
    "\n",
    "edge_index = edge_index.to(device)\n",
    "train_edge_index = train_edge_index.to(device)\n",
    "train_sparse_edge_index = train_sparse_edge_index.to(device)\n",
    "\n",
    "val_edge_index = val_edge_index.to(device)\n",
    "val_sparse_edge_index = val_sparse_edge_index.to(device)"
   ]
  },
  {
   "cell_type": "code",
   "execution_count": 25,
   "metadata": {},
   "outputs": [
    {
     "name": "stdout",
     "output_type": "stream",
     "text": [
      "[Iteration 0/10000] train_loss: -0.69295, val_loss: -0.67392, val_recall@20: 0.00021, val_precision@20: 0.00172, val_ndcg@20: 0.00184\n",
      "[Iteration 200/10000] train_loss: -0.69943, val_loss: -0.62069, val_recall@20: 0.01227, val_precision@20: 0.06672, val_ndcg@20: 0.0771\n",
      "[Iteration 400/10000] train_loss: -0.84475, val_loss: 0.34513, val_recall@20: 0.0129, val_precision@20: 0.06893, val_ndcg@20: 0.08295\n",
      "[Iteration 600/10000] train_loss: -1.30359, val_loss: 2.47325, val_recall@20: 0.01279, val_precision@20: 0.06721, val_ndcg@20: 0.08087\n",
      "[Iteration 800/10000] train_loss: -2.156, val_loss: 5.23623, val_recall@20: 0.01296, val_precision@20: 0.06795, val_ndcg@20: 0.08185\n",
      "[Iteration 1000/10000] train_loss: -3.20539, val_loss: 8.30914, val_recall@20: 0.01275, val_precision@20: 0.06762, val_ndcg@20: 0.0811\n",
      "[Iteration 1200/10000] train_loss: -4.29487, val_loss: 11.52561, val_recall@20: 0.01326, val_precision@20: 0.06836, val_ndcg@20: 0.0816\n",
      "[Iteration 1400/10000] train_loss: -5.45744, val_loss: 14.82734, val_recall@20: 0.01302, val_precision@20: 0.0677, val_ndcg@20: 0.08123\n",
      "[Iteration 1600/10000] train_loss: -6.84537, val_loss: 18.17251, val_recall@20: 0.01304, val_precision@20: 0.06721, val_ndcg@20: 0.0814\n",
      "[Iteration 1800/10000] train_loss: -8.13416, val_loss: 21.52762, val_recall@20: 0.01309, val_precision@20: 0.0677, val_ndcg@20: 0.08143\n",
      "[Iteration 2000/10000] train_loss: -9.59739, val_loss: 24.86557, val_recall@20: 0.01306, val_precision@20: 0.06787, val_ndcg@20: 0.08152\n",
      "[Iteration 2200/10000] train_loss: -10.66372, val_loss: 28.23504, val_recall@20: 0.01321, val_precision@20: 0.06828, val_ndcg@20: 0.08196\n",
      "[Iteration 2400/10000] train_loss: -11.64486, val_loss: 31.46883, val_recall@20: 0.01289, val_precision@20: 0.06713, val_ndcg@20: 0.08122\n",
      "[Iteration 2600/10000] train_loss: -13.10417, val_loss: 34.68123, val_recall@20: 0.01306, val_precision@20: 0.06795, val_ndcg@20: 0.08163\n",
      "[Iteration 2800/10000] train_loss: -14.42797, val_loss: 37.74833, val_recall@20: 0.01306, val_precision@20: 0.06762, val_ndcg@20: 0.08178\n",
      "[Iteration 3000/10000] train_loss: -14.96375, val_loss: 40.8119, val_recall@20: 0.01295, val_precision@20: 0.06746, val_ndcg@20: 0.08137\n",
      "[Iteration 3200/10000] train_loss: -16.47733, val_loss: 43.82089, val_recall@20: 0.01303, val_precision@20: 0.0677, val_ndcg@20: 0.08156\n",
      "[Iteration 3400/10000] train_loss: -17.53225, val_loss: 46.61915, val_recall@20: 0.01294, val_precision@20: 0.0673, val_ndcg@20: 0.08133\n",
      "[Iteration 3600/10000] train_loss: -18.21175, val_loss: 49.45164, val_recall@20: 0.013, val_precision@20: 0.0673, val_ndcg@20: 0.08129\n",
      "[Iteration 3800/10000] train_loss: -19.3286, val_loss: 52.01134, val_recall@20: 0.01293, val_precision@20: 0.0673, val_ndcg@20: 0.08128\n",
      "[Iteration 4000/10000] train_loss: -19.99015, val_loss: 54.60785, val_recall@20: 0.013, val_precision@20: 0.06746, val_ndcg@20: 0.08142\n",
      "[Iteration 4200/10000] train_loss: -22.02502, val_loss: 57.02468, val_recall@20: 0.01294, val_precision@20: 0.06721, val_ndcg@20: 0.08128\n",
      "[Iteration 4400/10000] train_loss: -23.07201, val_loss: 59.47469, val_recall@20: 0.01304, val_precision@20: 0.06721, val_ndcg@20: 0.08125\n",
      "[Iteration 4600/10000] train_loss: -24.16633, val_loss: 61.71417, val_recall@20: 0.01308, val_precision@20: 0.0673, val_ndcg@20: 0.08117\n",
      "[Iteration 4800/10000] train_loss: -24.02994, val_loss: 63.93507, val_recall@20: 0.01305, val_precision@20: 0.06738, val_ndcg@20: 0.08136\n",
      "[Iteration 5000/10000] train_loss: -24.94393, val_loss: 65.9991, val_recall@20: 0.01307, val_precision@20: 0.06738, val_ndcg@20: 0.08136\n",
      "[Iteration 5200/10000] train_loss: -26.08214, val_loss: 68.11292, val_recall@20: 0.01306, val_precision@20: 0.06754, val_ndcg@20: 0.08146\n",
      "[Iteration 5400/10000] train_loss: -26.57494, val_loss: 69.97415, val_recall@20: 0.01299, val_precision@20: 0.06721, val_ndcg@20: 0.08123\n",
      "[Iteration 5600/10000] train_loss: -26.32615, val_loss: 71.86986, val_recall@20: 0.01302, val_precision@20: 0.06738, val_ndcg@20: 0.08137\n",
      "[Iteration 5800/10000] train_loss: -28.17914, val_loss: 73.63963, val_recall@20: 0.01297, val_precision@20: 0.0673, val_ndcg@20: 0.08131\n",
      "[Iteration 6000/10000] train_loss: -28.64891, val_loss: 75.2626, val_recall@20: 0.01297, val_precision@20: 0.0673, val_ndcg@20: 0.08113\n",
      "[Iteration 6200/10000] train_loss: -29.30491, val_loss: 77.0197, val_recall@20: 0.01298, val_precision@20: 0.06738, val_ndcg@20: 0.08128\n",
      "[Iteration 6400/10000] train_loss: -30.11807, val_loss: 78.39845, val_recall@20: 0.01296, val_precision@20: 0.0673, val_ndcg@20: 0.08128\n",
      "[Iteration 6600/10000] train_loss: -30.56751, val_loss: 79.95573, val_recall@20: 0.01307, val_precision@20: 0.06762, val_ndcg@20: 0.08148\n",
      "[Iteration 6800/10000] train_loss: -31.52349, val_loss: 81.44392, val_recall@20: 0.01307, val_precision@20: 0.06762, val_ndcg@20: 0.08148\n",
      "[Iteration 7000/10000] train_loss: -31.968, val_loss: 82.79364, val_recall@20: 0.013, val_precision@20: 0.06746, val_ndcg@20: 0.08142\n",
      "[Iteration 7200/10000] train_loss: -32.10088, val_loss: 83.95445, val_recall@20: 0.013, val_precision@20: 0.06746, val_ndcg@20: 0.08165\n",
      "[Iteration 7400/10000] train_loss: -32.21881, val_loss: 85.20285, val_recall@20: 0.013, val_precision@20: 0.06754, val_ndcg@20: 0.0814\n",
      "[Iteration 7600/10000] train_loss: -34.33215, val_loss: 86.31082, val_recall@20: 0.01301, val_precision@20: 0.06754, val_ndcg@20: 0.08141\n",
      "[Iteration 7800/10000] train_loss: -32.81554, val_loss: 87.48914, val_recall@20: 0.01301, val_precision@20: 0.06746, val_ndcg@20: 0.08134\n",
      "[Iteration 8000/10000] train_loss: -33.55931, val_loss: 88.50323, val_recall@20: 0.013, val_precision@20: 0.06746, val_ndcg@20: 0.08136\n",
      "[Iteration 8200/10000] train_loss: -33.56678, val_loss: 89.60757, val_recall@20: 0.013, val_precision@20: 0.06754, val_ndcg@20: 0.08148\n",
      "[Iteration 8400/10000] train_loss: -33.90316, val_loss: 90.56393, val_recall@20: 0.013, val_precision@20: 0.06754, val_ndcg@20: 0.0815\n",
      "[Iteration 8600/10000] train_loss: -36.18142, val_loss: 91.44398, val_recall@20: 0.013, val_precision@20: 0.06754, val_ndcg@20: 0.08147\n",
      "[Iteration 8800/10000] train_loss: -34.59541, val_loss: 92.41771, val_recall@20: 0.01301, val_precision@20: 0.06762, val_ndcg@20: 0.08146\n",
      "[Iteration 9000/10000] train_loss: -36.7955, val_loss: 93.18369, val_recall@20: 0.01301, val_precision@20: 0.06762, val_ndcg@20: 0.08152\n",
      "[Iteration 9200/10000] train_loss: -37.02435, val_loss: 94.17323, val_recall@20: 0.01301, val_precision@20: 0.06762, val_ndcg@20: 0.08153\n",
      "[Iteration 9400/10000] train_loss: -35.33532, val_loss: 94.86735, val_recall@20: 0.01301, val_precision@20: 0.06762, val_ndcg@20: 0.08153\n",
      "[Iteration 9600/10000] train_loss: -36.26178, val_loss: 95.35983, val_recall@20: 0.01301, val_precision@20: 0.06762, val_ndcg@20: 0.08153\n",
      "[Iteration 9800/10000] train_loss: -37.07866, val_loss: 96.22646, val_recall@20: 0.01301, val_precision@20: 0.06762, val_ndcg@20: 0.08145\n"
     ]
    }
   ],
   "source": [
    "# training loop\n",
    "train_losses = []\n",
    "val_losses = []\n",
    "\n",
    "for iter in range(ITERATIONS):\n",
    "    # forward propagation\n",
    "    users_emb_final, users_emb_0, items_emb_final, items_emb_0 = model.forward(\n",
    "        train_sparse_edge_index)\n",
    "\n",
    "    # mini batching\n",
    "    user_indices, pos_item_indices, neg_item_indices = sample_mini_batch(\n",
    "        BATCH_SIZE, train_edge_index)\n",
    "    user_indices, pos_item_indices, neg_item_indices = user_indices.to(\n",
    "        device), pos_item_indices.to(device), neg_item_indices.to(device)\n",
    "    users_emb_final, users_emb_0 = users_emb_final[user_indices], users_emb_0[user_indices]\n",
    "    pos_items_emb_final, pos_items_emb_0 = items_emb_final[\n",
    "        pos_item_indices], items_emb_0[pos_item_indices]\n",
    "    neg_items_emb_final, neg_items_emb_0 = items_emb_final[\n",
    "        neg_item_indices], items_emb_0[neg_item_indices]\n",
    "\n",
    "    # loss computation\n",
    "    train_loss = bpr_loss(users_emb_final, users_emb_0, pos_items_emb_final,\n",
    "                          pos_items_emb_0, neg_items_emb_final, neg_items_emb_0, LAMBDA)\n",
    "\n",
    "    optimizer.zero_grad()\n",
    "    train_loss.backward()\n",
    "    optimizer.step()\n",
    "\n",
    "    if iter % ITERS_PER_EVAL == 0:\n",
    "        model.eval()\n",
    "        val_loss, recall, precision, ndcg = evaluation(\n",
    "            model, val_edge_index, val_sparse_edge_index, [train_edge_index], K, LAMBDA)\n",
    "        print(f\"[Iteration {iter}/{ITERATIONS}] train_loss: {round(train_loss.item(), 5)}, val_loss: {round(val_loss, 5)}, val_recall@{K}: {round(recall, 5)}, val_precision@{K}: {round(precision, 5)}, val_ndcg@{K}: {round(ndcg, 5)}\")\n",
    "        train_losses.append(train_loss.item())\n",
    "        val_losses.append(val_loss)\n",
    "        model.train()\n",
    "\n",
    "    if iter % ITERS_PER_LR_DECAY == 0 and iter != 0:\n",
    "        scheduler.step()"
   ]
  },
  {
   "cell_type": "code",
   "execution_count": 26,
   "metadata": {},
   "outputs": [
    {
     "data": {
      "image/png": "[encoded data removed]",
      "text/plain": [
       "<Figure size 640x480 with 1 Axes>"
      ]
     },
     "metadata": {},
     "output_type": "display_data"
    }
   ],
   "source": [
    "iters = [iter * ITERS_PER_EVAL for iter in range(len(train_losses))]\n",
    "plt.plot(iters, train_losses, label='train')\n",
    "plt.plot(iters, val_losses, label='validation')\n",
    "plt.xlabel('iteration')\n",
    "plt.ylabel('loss')\n",
    "plt.title('training and validation loss curves')\n",
    "plt.legend()\n",
    "plt.show()"
   ]
  },
  {
   "cell_type": "code",
   "execution_count": 27,
   "metadata": {},
   "outputs": [
    {
     "name": "stdout",
     "output_type": "stream",
     "text": [
      "[test_loss: 96.91693, test_recall@20: 0.0, test_precision@20: 0.0, test_ndcg@20: 0.0\n"
     ]
    }
   ],
   "source": [
    "# evaluate on test set\n",
    "model.eval()\n",
    "test_edge_index = test_edge_index.to(device)\n",
    "test_sparse_edge_index = test_sparse_edge_index.to(device)\n",
    "\n",
    "test_loss, test_recall, test_precision, test_ndcg = evaluation(\n",
    "            model, test_edge_index, test_sparse_edge_index, [train_edge_index, val_edge_index], K, LAMBDA)\n",
    "\n",
    "print(f\"[test_loss: {round(test_loss, 5)}, test_recall@{K}: {round(test_recall, 5)}, test_precision@{K}: {round(test_precision, 5)}, test_ndcg@{K}: {round(test_ndcg, 5)}\")"
   ]
  },
  {
   "cell_type": "code",
   "execution_count": 28,
   "metadata": {},
   "outputs": [
    {
     "ename": "NameError",
     "evalue": "name 'movie_path' is not defined",
     "output_type": "error",
     "traceback": [
      "\u001b[0;31m---------------------------------------------------------------------------\u001b[0m",
      "\u001b[0;31mNameError\u001b[0m                                 Traceback (most recent call last)",
      "Cell \u001b[0;32mIn[28], line 2\u001b[0m\n\u001b[1;32m      1\u001b[0m model\u001b[38;5;241m.\u001b[39meval()\n\u001b[0;32m----> 2\u001b[0m df \u001b[38;5;241m=\u001b[39m pd\u001b[38;5;241m.\u001b[39mread_csv(\u001b[43mmovie_path\u001b[49m)\n\u001b[1;32m      3\u001b[0m movieid_title \u001b[38;5;241m=\u001b[39m pd\u001b[38;5;241m.\u001b[39mSeries(df\u001b[38;5;241m.\u001b[39mtitle\u001b[38;5;241m.\u001b[39mvalues,index\u001b[38;5;241m=\u001b[39mdf\u001b[38;5;241m.\u001b[39mmovieId)\u001b[38;5;241m.\u001b[39mto_dict()\n\u001b[1;32m      4\u001b[0m movieid_genres \u001b[38;5;241m=\u001b[39m pd\u001b[38;5;241m.\u001b[39mSeries(df\u001b[38;5;241m.\u001b[39mgenres\u001b[38;5;241m.\u001b[39mvalues,index\u001b[38;5;241m=\u001b[39mdf\u001b[38;5;241m.\u001b[39mmovieId)\u001b[38;5;241m.\u001b[39mto_dict()\n",
      "\u001b[0;31mNameError\u001b[0m: name 'movie_path' is not defined"
     ]
    }
   ],
   "source": [
    "model.eval()\n",
    "df = pd.read_csv(movie_path)\n",
    "movieid_title = pd.Series(df.title.values,index=df.movieId).to_dict()\n",
    "movieid_genres = pd.Series(df.genres.values,index=df.movieId).to_dict()\n",
    "\n",
    "user_pos_items = get_user_positive_items(edge_index)"
   ]
  },
  {
   "cell_type": "code",
   "execution_count": 29,
   "metadata": {},
   "outputs": [],
   "source": [
    "def make_predictions(user_id, num_recs):\n",
    "    user = user_mapping[user_id]\n",
    "    e_u = model.users_emb.weight[user]\n",
    "    scores = model.items_emb.weight @ e_u\n",
    "\n",
    "    values, indices = torch.topk(scores, k=len(user_pos_items[user]) + num_recs)\n",
    "\n",
    "    movies = [index.cpu().item() for index in indices if index in user_pos_items[user]][:num_recs]\n",
    "    movie_ids = [list(movie_mapping.keys())[list(movie_mapping.values()).index(movie)] for movie in movies]\n",
    "    titles = [movieid_title[id] for id in movie_ids]\n",
    "    genres = [movieid_genres[id] for id in movie_ids]\n",
    "\n",
    "    print(f\"Here are some movies that user {user_id} rated highly\")\n",
    "    for i in range(num_recs):\n",
    "        print(f\"title: {titles[i]}, genres: {genres[i]} \")\n",
    "\n",
    "    print()\n",
    "\n",
    "    movies = [index.cpu().item() for index in indices if index not in user_pos_items[user]][:num_recs]\n",
    "    movie_ids = [list(movie_mapping.keys())[list(movie_mapping.values()).index(movie)] for movie in movies]\n",
    "    titles = [movieid_title[id] for id in movie_ids]\n",
    "    genres = [movieid_genres[id] for id in movie_ids]\n",
    "\n",
    "    print(f\"Here are some suggested movies for user {user_id}\")\n",
    "    for i in range(num_recs):\n",
    "        print(f\"title: {titles[i]}, genres: {genres[i]} \")"
   ]
  },
  {
   "cell_type": "code",
   "execution_count": 30,
   "metadata": {},
   "outputs": [
    {
     "ename": "NameError",
     "evalue": "name 'user_mapping' is not defined",
     "output_type": "error",
     "traceback": [
      "\u001b[0;31m---------------------------------------------------------------------------\u001b[0m",
      "\u001b[0;31mNameError\u001b[0m                                 Traceback (most recent call last)",
      "Cell \u001b[0;32mIn[30], line 4\u001b[0m\n\u001b[1;32m      1\u001b[0m USER_ID \u001b[38;5;241m=\u001b[39m \u001b[38;5;241m1\u001b[39m\n\u001b[1;32m      2\u001b[0m NUM_RECS \u001b[38;5;241m=\u001b[39m \u001b[38;5;241m10\u001b[39m\n\u001b[0;32m----> 4\u001b[0m \u001b[43mmake_predictions\u001b[49m\u001b[43m(\u001b[49m\u001b[43mUSER_ID\u001b[49m\u001b[43m,\u001b[49m\u001b[43m \u001b[49m\u001b[43mNUM_RECS\u001b[49m\u001b[43m)\u001b[49m\n",
      "Cell \u001b[0;32mIn[29], line 2\u001b[0m, in \u001b[0;36mmake_predictions\u001b[0;34m(user_id, num_recs)\u001b[0m\n\u001b[1;32m      1\u001b[0m \u001b[38;5;28;01mdef\u001b[39;00m \u001b[38;5;21mmake_predictions\u001b[39m(user_id, num_recs):\n\u001b[0;32m----> 2\u001b[0m     user \u001b[38;5;241m=\u001b[39m \u001b[43muser_mapping\u001b[49m[user_id]\n\u001b[1;32m      3\u001b[0m     e_u \u001b[38;5;241m=\u001b[39m model\u001b[38;5;241m.\u001b[39musers_emb\u001b[38;5;241m.\u001b[39mweight[user]\n\u001b[1;32m      4\u001b[0m     scores \u001b[38;5;241m=\u001b[39m model\u001b[38;5;241m.\u001b[39mitems_emb\u001b[38;5;241m.\u001b[39mweight \u001b[38;5;241m@\u001b[39m e_u\n",
      "\u001b[0;31mNameError\u001b[0m: name 'user_mapping' is not defined"
     ]
    }
   ],
   "source": [
    "USER_ID = 1\n",
    "NUM_RECS = 10\n",
    "\n",
    "make_predictions(USER_ID, NUM_RECS)"
   ]
  }
 ],
 "metadata": {
  "kernelspec": {
   "display_name": "Python 3",
   "language": "python",
   "name": "python3"
  },
  "language_info": {
   "codemirror_mode": {
    "name": "ipython",
    "version": 3
   },
   "file_extension": ".py",
   "mimetype": "text/x-python",
   "name": "python",
   "nbconvert_exporter": "python",
   "pygments_lexer": "ipython3",
   "version": "3.12.7"
  }
 },
 "nbformat": 4,
 "nbformat_minor": 2
}
